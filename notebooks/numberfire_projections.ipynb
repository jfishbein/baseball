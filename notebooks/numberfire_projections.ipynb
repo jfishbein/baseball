{
 "cells": [
  {
   "cell_type": "code",
   "execution_count": 36,
   "metadata": {
    "collapsed": true
   },
   "outputs": [],
   "source": [
    "# Setup\n",
    "import urllib3\n",
    "import certifi\n",
    "from bs4 import BeautifulSoup\n",
    "import pandas as pd\n",
    "import time\n",
    "\n",
    "http = urllib3.PoolManager(cert_reqs='CERT_REQUIRED', ca_certs=certifi.where())"
   ]
  },
  {
   "cell_type": "code",
   "execution_count": 37,
   "metadata": {},
   "outputs": [],
   "source": [
    "hitters_url = \"https://www.numberfire.com/mlb/fantasy/weekly-projections/batters\"\n",
    "pitchers_url = \"https://www.numberfire.com/mlb/fantasy/weekly-projections/pitchers\"\n",
    "\n",
    "urls = {\n",
    "    'H': hitters_url,\n",
    "    'P': pitchers_url\n",
    "}"
   ]
  },
  {
   "cell_type": "code",
   "execution_count": 41,
   "metadata": {},
   "outputs": [],
   "source": [
    "for key, url in urls.items():\n",
    "    response = http.request(\"GET\", url)\n",
    "        \n",
    "    soup = BeautifulSoup(response.data, 'html.parser')\n",
    "    player_table = soup.find('table', class_='projection-table--fixed')\n",
    "    stats_table = soup.find('table', class_=\"no-fix\")\n",
    "    header = [th.text.strip() for th in stats_table.find('thead').select('th')]\n",
    "    header.insert(0, \"Player\")\n",
    "    \n",
    "    if key == 'H':\n",
    "        header[header.index('H2B')] = \"2B\"\n",
    "        header[header.index('H3B')] = \"3B\"\n",
    "    \n",
    "    full_stats = []\n",
    "    for row in stats_table.find('tbody').find_all('tr'):\n",
    "        stats = [td.text.strip() for td in row.find_all('td')]\n",
    "        stats.insert(0, player_table.find('tr', attrs={'data-row-index': row['data-row-index']}).td.find('span', class_='full').text.strip())\n",
    "        full_stats.append(stats)\n",
    "    cols = zip(*full_stats)\n",
    "    tbl_d = {name: col for name, col in zip(header, cols)}\n",
    "    df = pd.DataFrame(tbl_d, columns=header)\n",
    "    df.to_csv('data/Numberfile_' + time.strftime(\"%Y_%b_%d_\") + key + \".csv\")\n"
   ]
  },
  {
   "cell_type": "code",
   "execution_count": null,
   "metadata": {},
   "outputs": [],
   "source": []
  }
 ],
 "metadata": {
  "kernelspec": {
   "display_name": "Python 2",
   "language": "python",
   "name": "python2"
  },
  "language_info": {
   "codemirror_mode": {
    "name": "ipython",
    "version": 2
   },
   "file_extension": ".py",
   "mimetype": "text/x-python",
   "name": "python",
   "nbconvert_exporter": "python",
   "pygments_lexer": "ipython2",
   "version": "2.7.6"
  }
 },
 "nbformat": 4,
 "nbformat_minor": 0
}
