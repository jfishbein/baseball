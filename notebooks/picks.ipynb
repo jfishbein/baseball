{
 "cells": [
  {
   "cell_type": "code",
   "execution_count": 1,
   "metadata": {
    "collapsed": false
   },
   "outputs": [],
   "source": [
    "# Pull Sportsnet Player Lists\n",
    "import urllib3\n",
    "import certifi\n",
    "from bs4 import BeautifulSoup\n",
    "import pandas as pd\n",
    "\n",
    "http = urllib3.PoolManager(cert_reqs='CERT_REQUIRED', ca_certs=certifi.where())\n",
    "\n",
    "base_url = \"https://fantasy.sportsnet.ca/sportsnet/baseball18/player_stats\"\n",
    "group_param = \"pick_stats_group\"\n",
    "\n",
    "scrape_pages = {\n",
    "    \"C/DH\": 1,\n",
    "    \"1B/3B\": 2,\n",
    "    \"2B/SS\": 3,\n",
    "    \"OF\": 4,\n",
    "    \"SP\": 5,\n",
    "    \"RP\": 6\n",
    "}\n",
    "\n",
    "frames = {}\n",
    "\n",
    "for key, value in scrape_pages.items():\n",
    "\n",
    "    response = http.request(\"GET\", base_url + \"?\" + group_param + \"=\" + str(value))\n",
    "    \n",
    "    soup = BeautifulSoup(response.data, 'html.parser')\n",
    "    table = soup.find('table', attrs={'id': 'playerstats'})\n",
    "    header = [th.text for th in table.find('thead').select('th')]\n",
    "    players = [[td.text.strip().split('\\n')[0] for td in row.select('td')] for row in table.tbody.find_all('tr')]\n",
    "    cols = zip(*players)\n",
    "    tbl_d = {name: col for name, col in zip(header, cols)}\n",
    "    df = pd.DataFrame(tbl_d, columns=header)\n",
    "    name = df['Player'].str.split(', ')\n",
    "    df[\"First\"] = name.str[1]\n",
    "    df['Last'] = name.str[0]\n",
    "    df['Player'] = name.str[1] + \" \" + name.str[0]\n",
    "    df.apply(pd.to_numeric, errors='ignore')\n",
    "    frames[key] = df"
   ]
  },
  {
   "cell_type": "code",
   "execution_count": 2,
   "metadata": {},
   "outputs": [],
   "source": [
    "# Load Fantasy Pro projections\n",
    "hitters = pd.read_csv(\"data/FantasyPros_2018_wk2_Projections_H.csv\")\n",
    "pitchers = pd.read_csv(\"data/FantasyPros_2018_wk2_Projections_P.csv\")"
   ]
  },
  {
   "cell_type": "code",
   "execution_count": 3,
   "metadata": {},
   "outputs": [],
   "source": [
    "# Join Sportsnet data with projects\n",
    "for key, value in frames.items():\n",
    "    merge_frame = hitters\n",
    "    if key == \"SP\" or key == \"RP\":\n",
    "        merge_frame = pitchers\n",
    "    result = pd.merge(value, merge_frame, on='Player')\n",
    "    frames[key] = result"
   ]
  },
  {
   "cell_type": "code",
   "execution_count": 4,
   "metadata": {},
   "outputs": [
    {
     "ename": "TypeError",
     "evalue": "'>=' not supported between instances of 'str' and 'int'",
     "traceback": [
      "\u001b[0;31m---------------------------------------------------------------------------\u001b[0m",
      "\u001b[0;31mTypeError\u001b[0m                                 Traceback (most recent call last)",
      "\u001b[0;32m<ipython-input-4-7f0540526120>\u001b[0m in \u001b[0;36m<module>\u001b[0;34m()\u001b[0m\n\u001b[1;32m     10\u001b[0m                     \u001b[0;32mif\u001b[0m \u001b[0mof1\u001b[0m\u001b[0;34m[\u001b[0m\u001b[0;34m\"Player\"\u001b[0m\u001b[0;34m]\u001b[0m \u001b[0;34m==\u001b[0m \u001b[0mof2\u001b[0m\u001b[0;34m[\u001b[0m\u001b[0;34m\"Player\"\u001b[0m\u001b[0;34m]\u001b[0m\u001b[0;34m:\u001b[0m\u001b[0;34m\u001b[0m\u001b[0m\n\u001b[1;32m     11\u001b[0m                         \u001b[0;32mcontinue\u001b[0m\u001b[0;34m\u001b[0m\u001b[0m\n\u001b[0;32m---> 12\u001b[0;31m                     \u001b[0;32mif\u001b[0m \u001b[0mof2\u001b[0m\u001b[0;34m[\u001b[0m\u001b[0;34m'PV'\u001b[0m\u001b[0;34m]\u001b[0m \u001b[0;34m+\u001b[0m \u001b[0mof1\u001b[0m\u001b[0;34m[\u001b[0m\u001b[0;34m'PV'\u001b[0m\u001b[0;34m]\u001b[0m \u001b[0;34m+\u001b[0m \u001b[0msbss\u001b[0m\u001b[0;34m[\u001b[0m\u001b[0;34m'PV'\u001b[0m\u001b[0;34m]\u001b[0m \u001b[0;34m+\u001b[0m \u001b[0mfbtb\u001b[0m\u001b[0;34m[\u001b[0m\u001b[0;34m'PV'\u001b[0m\u001b[0;34m]\u001b[0m \u001b[0;34m+\u001b[0m \u001b[0mcdh\u001b[0m\u001b[0;34m[\u001b[0m\u001b[0;34m'PV'\u001b[0m\u001b[0;34m]\u001b[0m \u001b[0;34m>=\u001b[0m \u001b[0;36m20\u001b[0m\u001b[0;34m:\u001b[0m\u001b[0;34m\u001b[0m\u001b[0m\n\u001b[0m\u001b[1;32m     13\u001b[0m                         \u001b[0;32mcontinue\u001b[0m\u001b[0;34m\u001b[0m\u001b[0m\n\u001b[1;32m     14\u001b[0m                     \u001b[0;32mfor\u001b[0m \u001b[0msp_index\u001b[0m\u001b[0;34m,\u001b[0m \u001b[0msp\u001b[0m \u001b[0;32min\u001b[0m \u001b[0mframes\u001b[0m\u001b[0;34m[\u001b[0m\u001b[0;34m\"SP\"\u001b[0m\u001b[0;34m]\u001b[0m\u001b[0;34m.\u001b[0m\u001b[0miterrows\u001b[0m\u001b[0;34m(\u001b[0m\u001b[0;34m)\u001b[0m\u001b[0;34m:\u001b[0m\u001b[0;34m\u001b[0m\u001b[0m\n",
      "\u001b[0;31mTypeError\u001b[0m: '>=' not supported between instances of 'str' and 'int'"
     ],
     "output_type": "error"
    }
   ],
   "source": [
    "# Build all possible Teams into a dataframe\n",
    "teams = pd.DataFrame(columns=[\"C/DH\", \"1B/3B\", \"2B/SS\", \"OF1\", \"OF2\", \"SP\", \"RP\", \"PV Total\", \"xScore\"])\n",
    "i = 0\n",
    "\n",
    "for cdh_index, cdh in frames[\"C/DH\"].iterrows():\n",
    "    for fbtb_index, fbtb in frames[\"1B/3B\"].iterrows():\n",
    "        for sbss_index, sbss in frames[\"2B/SS\"].iterrows():\n",
    "            for of1_index, of1 in frames[\"OF\"].iterrows():\n",
    "                for of2_index, of2 in frames[\"OF\"].iterrows():\n",
    "                    if of1[\"Player\"] == of2[\"Player\"]:\n",
    "                        continue\n",
    "                    if of2['PV'] + of1['PV'] + sbss['PV'] + fbtb['PV'] + cdh['PV'] >= 20:\n",
    "                        continue\n",
    "                    for sp_index, sp in frames[\"SP\"].iterrows():\n",
    "                        if sp['PV'] + of2['PV'] + of1['PV'] + sbss['PV'] + fbtb['PV'] + cdh['PV'] >= 20:\n",
    "                            continue\n",
    "                        for rp_index, sp in frames[\"RP\"].iterrows():\n",
    "                            if rp['PV'] + sp['PV'] + of2['PV'] + of1['PV'] + sbss['PV'] + fbtb['PV'] + cdh['PV'] >= 20:\n",
    "                                continue\n",
    "                            i = i + 1\n",
    "print(i)"
   ]
  },
  {
   "cell_type": "code",
   "execution_count": null,
   "metadata": {},
   "outputs": [],
   "source": []
  }
 ],
 "metadata": {
  "kernelspec": {
   "display_name": "Python 2",
   "language": "python",
   "name": "python2"
  },
  "language_info": {
   "codemirror_mode": {
    "name": "ipython",
    "version": 2
   },
   "file_extension": ".py",
   "mimetype": "text/x-python",
   "name": "python",
   "nbconvert_exporter": "python",
   "pygments_lexer": "ipython2",
   "version": "2.7.6"
  }
 },
 "nbformat": 4,
 "nbformat_minor": 0
}
