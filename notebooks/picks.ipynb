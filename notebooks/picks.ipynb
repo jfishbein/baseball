{
 "cells": [
  {
   "cell_type": "code",
   "execution_count": 31,
   "metadata": {
    "collapsed": false
   },
   "outputs": [],
   "source": [
    "# Pull Sportsnet Player Lists\n",
    "import urllib3\n",
    "import certifi\n",
    "from bs4 import BeautifulSoup\n",
    "import pandas as pd\n",
    "\n",
    "http = urllib3.PoolManager(cert_reqs='CERT_REQUIRED', ca_certs=certifi.where())\n",
    "\n",
    "base_url = \"https://fantasy.sportsnet.ca/sportsnet/baseball18/player_stats\"\n",
    "group_param = \"pick_stats_group\"\n",
    "\n",
    "scrape_pages = {\n",
    "    \"C/DH\": 1,\n",
    "    \"1B/3B\": 2,\n",
    "    \"2B/SS\": 3,\n",
    "    \"OF\": 4,\n",
    "    \"SP\": 5,\n",
    "    \"RP\": 6\n",
    "}\n",
    "\n",
    "frames = {}\n",
    "\n",
    "for key, value in scrape_pages.items():\n",
    "\n",
    "    response = http.request(\"GET\", base_url + \"?\" + group_param + \"=\" + str(value))\n",
    "    \n",
    "    soup = BeautifulSoup(response.data, 'html.parser')\n",
    "    table = soup.find('table', attrs={'id': 'playerstats'})\n",
    "    header = [th.text for th in table.find('thead').select('th')]\n",
    "    players = [[td.text.strip().split('\\n')[0] for td in row.select('td')] for row in table.tbody.find_all('tr')]\n",
    "    cols = zip(*players)\n",
    "    tbl_d = {name: col for name, col in zip(header, cols)}\n",
    "    df = pd.DataFrame(tbl_d, columns=header)\n",
    "    name = df['Player'].str.split(', ')\n",
    "    df[\"First\"] = name.str[1]\n",
    "    df['Last'] = name.str[0]\n",
    "    frames[key] = df"
   ]
  },
  {
   "cell_type": "code",
   "execution_count": 3,
   "metadata": {},
   "outputs": [],
   "source": []
  },
  {
   "cell_type": "code",
   "execution_count": null,
   "metadata": {},
   "outputs": [],
   "source": []
  }
 ],
 "metadata": {
  "kernelspec": {
   "display_name": "Python 2",
   "language": "python",
   "name": "python2"
  },
  "language_info": {
   "codemirror_mode": {
    "name": "ipython",
    "version": 2
   },
   "file_extension": ".py",
   "mimetype": "text/x-python",
   "name": "python",
   "nbconvert_exporter": "python",
   "pygments_lexer": "ipython2",
   "version": "2.7.6"
  }
 },
 "nbformat": 4,
 "nbformat_minor": 0
}
